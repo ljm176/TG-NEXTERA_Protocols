{
 "cells": [
  {
   "cell_type": "code",
   "execution_count": 1,
   "metadata": {},
   "outputs": [],
   "source": [
    "import opentrons"
   ]
  },
  {
   "cell_type": "code",
   "execution_count": 8,
   "metadata": {},
   "outputs": [
    {
     "name": "stdout",
     "output_type": "stream",
     "text": [
      "[[A1 of Opentrons 96 Filter Tip Rack 200 µL on 9, B1 of Opentrons 96 Filter Tip Rack 200 µL on 9, C1 of Opentrons 96 Filter Tip Rack 200 µL on 9, D1 of Opentrons 96 Filter Tip Rack 200 µL on 9, E1 of Opentrons 96 Filter Tip Rack 200 µL on 9, F1 of Opentrons 96 Filter Tip Rack 200 µL on 9, G1 of Opentrons 96 Filter Tip Rack 200 µL on 9, H1 of Opentrons 96 Filter Tip Rack 200 µL on 9], [A2 of Opentrons 96 Filter Tip Rack 200 µL on 9, B2 of Opentrons 96 Filter Tip Rack 200 µL on 9, C2 of Opentrons 96 Filter Tip Rack 200 µL on 9, D2 of Opentrons 96 Filter Tip Rack 200 µL on 9, E2 of Opentrons 96 Filter Tip Rack 200 µL on 9, F2 of Opentrons 96 Filter Tip Rack 200 µL on 9, G2 of Opentrons 96 Filter Tip Rack 200 µL on 9, H2 of Opentrons 96 Filter Tip Rack 200 µL on 9], [A3 of Opentrons 96 Filter Tip Rack 200 µL on 9, B3 of Opentrons 96 Filter Tip Rack 200 µL on 9, C3 of Opentrons 96 Filter Tip Rack 200 µL on 9, D3 of Opentrons 96 Filter Tip Rack 200 µL on 9, E3 of Opentrons 96 Filter Tip Rack 200 µL on 9, F3 of Opentrons 96 Filter Tip Rack 200 µL on 9, G3 of Opentrons 96 Filter Tip Rack 200 µL on 9, H3 of Opentrons 96 Filter Tip Rack 200 µL on 9], [A4 of Opentrons 96 Filter Tip Rack 200 µL on 9, B4 of Opentrons 96 Filter Tip Rack 200 µL on 9, C4 of Opentrons 96 Filter Tip Rack 200 µL on 9, D4 of Opentrons 96 Filter Tip Rack 200 µL on 9, E4 of Opentrons 96 Filter Tip Rack 200 µL on 9, F4 of Opentrons 96 Filter Tip Rack 200 µL on 9, G4 of Opentrons 96 Filter Tip Rack 200 µL on 9, H4 of Opentrons 96 Filter Tip Rack 200 µL on 9], [A5 of Opentrons 96 Filter Tip Rack 200 µL on 9, B5 of Opentrons 96 Filter Tip Rack 200 µL on 9, C5 of Opentrons 96 Filter Tip Rack 200 µL on 9, D5 of Opentrons 96 Filter Tip Rack 200 µL on 9, E5 of Opentrons 96 Filter Tip Rack 200 µL on 9, F5 of Opentrons 96 Filter Tip Rack 200 µL on 9, G5 of Opentrons 96 Filter Tip Rack 200 µL on 9, H5 of Opentrons 96 Filter Tip Rack 200 µL on 9], [A6 of Opentrons 96 Filter Tip Rack 200 µL on 9, B6 of Opentrons 96 Filter Tip Rack 200 µL on 9, C6 of Opentrons 96 Filter Tip Rack 200 µL on 9, D6 of Opentrons 96 Filter Tip Rack 200 µL on 9, E6 of Opentrons 96 Filter Tip Rack 200 µL on 9, F6 of Opentrons 96 Filter Tip Rack 200 µL on 9, G6 of Opentrons 96 Filter Tip Rack 200 µL on 9, H6 of Opentrons 96 Filter Tip Rack 200 µL on 9], [A7 of Opentrons 96 Filter Tip Rack 200 µL on 9, B7 of Opentrons 96 Filter Tip Rack 200 µL on 9, C7 of Opentrons 96 Filter Tip Rack 200 µL on 9, D7 of Opentrons 96 Filter Tip Rack 200 µL on 9, E7 of Opentrons 96 Filter Tip Rack 200 µL on 9, F7 of Opentrons 96 Filter Tip Rack 200 µL on 9, G7 of Opentrons 96 Filter Tip Rack 200 µL on 9, H7 of Opentrons 96 Filter Tip Rack 200 µL on 9], [A8 of Opentrons 96 Filter Tip Rack 200 µL on 9, B8 of Opentrons 96 Filter Tip Rack 200 µL on 9, C8 of Opentrons 96 Filter Tip Rack 200 µL on 9, D8 of Opentrons 96 Filter Tip Rack 200 µL on 9, E8 of Opentrons 96 Filter Tip Rack 200 µL on 9, F8 of Opentrons 96 Filter Tip Rack 200 µL on 9, G8 of Opentrons 96 Filter Tip Rack 200 µL on 9, H8 of Opentrons 96 Filter Tip Rack 200 µL on 9], [A9 of Opentrons 96 Filter Tip Rack 200 µL on 9, B9 of Opentrons 96 Filter Tip Rack 200 µL on 9, C9 of Opentrons 96 Filter Tip Rack 200 µL on 9, D9 of Opentrons 96 Filter Tip Rack 200 µL on 9, E9 of Opentrons 96 Filter Tip Rack 200 µL on 9, F9 of Opentrons 96 Filter Tip Rack 200 µL on 9, G9 of Opentrons 96 Filter Tip Rack 200 µL on 9, H9 of Opentrons 96 Filter Tip Rack 200 µL on 9], [A10 of Opentrons 96 Filter Tip Rack 200 µL on 9, B10 of Opentrons 96 Filter Tip Rack 200 µL on 9, C10 of Opentrons 96 Filter Tip Rack 200 µL on 9, D10 of Opentrons 96 Filter Tip Rack 200 µL on 9, E10 of Opentrons 96 Filter Tip Rack 200 µL on 9, F10 of Opentrons 96 Filter Tip Rack 200 µL on 9, G10 of Opentrons 96 Filter Tip Rack 200 µL on 9, H10 of Opentrons 96 Filter Tip Rack 200 µL on 9], [A11 of Opentrons 96 Filter Tip Rack 200 µL on 9, B11 of Opentrons 96 Filter Tip Rack 200 µL on 9, C11 of Opentrons 96 Filter Tip Rack 200 µL on 9, D11 of Opentrons 96 Filter Tip Rack 200 µL on 9, E11 of Opentrons 96 Filter Tip Rack 200 µL on 9, F11 of Opentrons 96 Filter Tip Rack 200 µL on 9, G11 of Opentrons 96 Filter Tip Rack 200 µL on 9, H11 of Opentrons 96 Filter Tip Rack 200 µL on 9], [A12 of Opentrons 96 Filter Tip Rack 200 µL on 9, B12 of Opentrons 96 Filter Tip Rack 200 µL on 9, C12 of Opentrons 96 Filter Tip Rack 200 µL on 9, D12 of Opentrons 96 Filter Tip Rack 200 µL on 9, E12 of Opentrons 96 Filter Tip Rack 200 µL on 9, F12 of Opentrons 96 Filter Tip Rack 200 µL on 9, G12 of Opentrons 96 Filter Tip Rack 200 µL on 9, H12 of Opentrons 96 Filter Tip Rack 200 µL on 9]]\n",
      "Disengaging Magnetic Module\n"
     ]
    },
    {
     "name": "stderr",
     "output_type": "stream",
     "text": [
      "C:\\Users\\lajamu\\.opentrons\\deck_calibration.json not found. Loading defaults\n",
      "C:\\Users\\lajamu\\.opentrons\\robot_settings.json not found. Loading defaults\n"
     ]
    }
   ],
   "source": [
    "!opentrons_simulate CleanUp.py"
   ]
  },
  {
   "cell_type": "code",
   "execution_count": null,
   "metadata": {},
   "outputs": [],
   "source": []
  }
 ],
 "metadata": {
  "kernelspec": {
   "display_name": "Python 3",
   "language": "python",
   "name": "python3"
  },
  "language_info": {
   "codemirror_mode": {
    "name": "ipython",
    "version": 3
   },
   "file_extension": ".py",
   "mimetype": "text/x-python",
   "name": "python",
   "nbconvert_exporter": "python",
   "pygments_lexer": "ipython3",
   "version": "3.7.1"
  }
 },
 "nbformat": 4,
 "nbformat_minor": 4
}

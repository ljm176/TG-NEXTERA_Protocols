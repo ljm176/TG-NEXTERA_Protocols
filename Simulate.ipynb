{
 "cells": [
  {
   "cell_type": "code",
   "execution_count": 1,
   "metadata": {},
   "outputs": [],
   "source": [
    "import opentrons"
   ]
  },
  {
   "cell_type": "code",
   "execution_count": 63,
   "metadata": {},
   "outputs": [
    {
     "name": "stdout",
     "output_type": "stream",
     "text": [
      "Disengaging Magnetic Module\n",
      "Transferring 45.0 from A1 of NEST 12 Well Reservoir 15 mL on 2 to A1 of NEST 96 Well Plate 100 µL PCR Full Skirt on Magnetic Module GEN2 on 4\n",
      "\tPicking up tip from A1 of Opentrons 96 Filter Tip Rack 200 µL on 9\n",
      "\tMixing 2 times with a volume of 200.0 ul\n",
      "\t\tAspirating 200.0 uL from A1 of NEST 12 Well Reservoir 15 mL on 2 at 94.0 uL/sec\n",
      "\t\tDispensing 200.0 uL into A1 of NEST 12 Well Reservoir 15 mL on 2 at 94.0 uL/sec\n",
      "\t\tAspirating 200.0 uL from A1 of NEST 12 Well Reservoir 15 mL on 2 at 94.0 uL/sec\n",
      "\t\tDispensing 200.0 uL into A1 of NEST 12 Well Reservoir 15 mL on 2 at 94.0 uL/sec\n",
      "\tAspirating 45.0 uL from A1 of NEST 12 Well Reservoir 15 mL on 2 at 94.0 uL/sec\n",
      "\tDispensing 45.0 uL into A1 of NEST 96 Well Plate 100 µL PCR Full Skirt on Magnetic Module GEN2 on 4 at 94.0 uL/sec\n",
      "\tMixing 3 times with a volume of 50.0 ul"
     ]
    },
    {
     "name": "stderr",
     "output_type": "stream",
     "text": [
      "C:\\Users\\lajamu\\.opentrons\\deck_calibration.json not found. Loading defaults\n",
      "C:\\Users\\lajamu\\.opentrons\\robot_settings.json not found. Loading defaults\n"
     ]
    },
    {
     "name": "stdout",
     "output_type": "stream",
     "text": [
      "\n",
      "\t\tAspirating 50.0 uL from A1 of NEST 96 Well Plate 100 µL PCR Full Skirt on Magnetic Module GEN2 on 4 at 94.0 uL/sec\n",
      "\t\tDispensing 50.0 uL into A1 of NEST 96 Well Plate 100 µL PCR Full Skirt on Magnetic Module GEN2 on 4 at 94.0 uL/sec\n",
      "\t\tAspirating 50.0 uL from A1 of NEST 96 Well Plate 100 µL PCR Full Skirt on Magnetic Module GEN2 on 4 at 94.0 uL/sec\n",
      "\t\tDispensing 50.0 uL into A1 of NEST 96 Well Plate 100 µL PCR Full Skirt on Magnetic Module GEN2 on 4 at 94.0 uL/sec\n",
      "\t\tAspirating 50.0 uL from A1 of NEST 96 Well Plate 100 µL PCR Full Skirt on Magnetic Module GEN2 on 4 at 94.0 uL/sec\n",
      "\t\tDispensing 50.0 uL into A1 of NEST 96 Well Plate 100 µL PCR Full Skirt on Magnetic Module GEN2 on 4 at 94.0 uL/sec\n",
      "\tDropping tip into A1 of Opentrons Fixed Trash on 12\n",
      "Delaying for 5 minutes and 0 seconds\n",
      "Engaging Magnetic Module\n",
      "Delaying for 10 minutes and 0 seconds\n",
      "Transferring 50.0 from A1 of NEST 96 Well Plate 100 µL PCR Full Skirt on Magnetic Module GEN2 on 4 to A1 of USA Scientific 96 Deep Well Plate 2.4 mL on 1\n",
      "\tPicking up tip from A2 of Opentrons 96 Filter Tip Rack 200 µL on 9\n",
      "\tAspirating 50.0 uL from A1 of NEST 96 Well Plate 100 µL PCR Full Skirt on Magnetic Module GEN2 on 4 at 94.0 uL/sec\n",
      "\tDispensing 50.0 uL into A1 of USA Scientific 96 Deep Well Plate 2.4 mL on 1 at 94.0 uL/sec\n",
      "\tDropping tip into A1 of Opentrons Fixed Trash on 12\n",
      "Picking up tip from A1 of Opentrons 96 Filter Tip Rack 200 µL on 8\n",
      "Transferring 200.0 from A1 of Agilent 1 Well Reservoir 290 mL on 7 to A1 of NEST 96 Well Plate 100 µL PCR Full Skirt on Magnetic Module GEN2 on 4\n",
      "\tAspirating 200.0 uL from A1 of Agilent 1 Well Reservoir 290 mL on 7 at 94.0 uL/sec\n",
      "\tDispensing 200.0 uL into A1 of NEST 96 Well Plate 100 µL PCR Full Skirt on Magnetic Module GEN2 on 4 at 94.0 uL/sec\n",
      "Returning tip\n",
      "\tDropping tip into A1 of Opentrons 96 Filter Tip Rack 200 µL on 8\n",
      "Transferring 200.0 from A1 of NEST 96 Well Plate 100 µL PCR Full Skirt on Magnetic Module GEN2 on 4 to A1 of USA Scientific 96 Deep Well Plate 2.4 mL on 1\n",
      "\tPicking up tip from A3 of Opentrons 96 Filter Tip Rack 200 µL on 9\n",
      "\tAspirating 200.0 uL from A1 of NEST 96 Well Plate 100 µL PCR Full Skirt on Magnetic Module GEN2 on 4 at 94.0 uL/sec\n",
      "\tTouching tip\n",
      "\tDispensing 200.0 uL into A1 of USA Scientific 96 Deep Well Plate 2.4 mL on 1 at 94.0 uL/sec\n",
      "\tTouching tip\n",
      "\tReturning tip\n",
      "\t\tDropping tip into A3 of Opentrons 96 Filter Tip Rack 200 µL on 9\n",
      "Picking up tip from A1 of Opentrons 96 Filter Tip Rack 200 µL on 8\n",
      "Transferring 200.0 from A1 of Agilent 1 Well Reservoir 290 mL on 7 to A1 of NEST 96 Well Plate 100 µL PCR Full Skirt on Magnetic Module GEN2 on 4\n",
      "\tAspirating 200.0 uL from A1 of Agilent 1 Well Reservoir 290 mL on 7 at 94.0 uL/sec\n",
      "\tDispensing 200.0 uL into A1 of NEST 96 Well Plate 100 µL PCR Full Skirt on Magnetic Module GEN2 on 4 at 94.0 uL/sec\n",
      "Returning tip\n",
      "\tDropping tip into A1 of Opentrons 96 Filter Tip Rack 200 µL on 8\n",
      "Transferring 200.0 from A1 of NEST 96 Well Plate 100 µL PCR Full Skirt on Magnetic Module GEN2 on 4 to A1 of USA Scientific 96 Deep Well Plate 2.4 mL on 1\n",
      "\tPicking up tip from A3 of Opentrons 96 Filter Tip Rack 200 µL on 9\n",
      "\tAspirating 200.0 uL from A1 of NEST 96 Well Plate 100 µL PCR Full Skirt on Magnetic Module GEN2 on 4 at 94.0 uL/sec\n",
      "\tTouching tip\n",
      "\tDispensing 200.0 uL into A1 of USA Scientific 96 Deep Well Plate 2.4 mL on 1 at 94.0 uL/sec\n",
      "\tTouching tip\n",
      "\tDropping tip into A1 of Opentrons Fixed Trash on 12\n"
     ]
    }
   ],
   "source": [
    "!opentrons_simulate CleanUp.py"
   ]
  }
 ],
 "metadata": {
  "kernelspec": {
   "display_name": "Python 3",
   "language": "python",
   "name": "python3"
  },
  "language_info": {
   "codemirror_mode": {
    "name": "ipython",
    "version": 3
   },
   "file_extension": ".py",
   "mimetype": "text/x-python",
   "name": "python",
   "nbconvert_exporter": "python",
   "pygments_lexer": "ipython3",
   "version": "3.7.1"
  }
 },
 "nbformat": 4,
 "nbformat_minor": 4
}
